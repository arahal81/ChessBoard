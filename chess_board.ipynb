{
 "cells": [
  {
   "cell_type": "code",
   "execution_count": 143,
   "source": [
    "# %matplotlib inline\n",
    "import matplotlib.pyplot as plt\n",
    "import numpy as np\n"
   ],
   "outputs": [],
   "metadata": {}
  },
  {
   "cell_type": "code",
   "execution_count": 144,
   "source": [
    "class ChessBoard:\n",
    "   \n",
    "    def __init__(self):\n",
    "        self.grid = np.zeros([8,8,3])\n",
    "        self.grid[::2,::2] = [1,1,1]\n",
    "        self.grid[1::2,1::2] = [1,1,1]\n",
    "        self.red=[]\n",
    "        self.blue=[]\n",
    "\n",
    "    def render(self):\n",
    "        plt.imshow(self.grid)\n",
    "\n",
    "    def add_red(self,row,col):\n",
    "        self.grid[row,col]=[1,0,0]\n",
    "        self.red=[row,col]\n",
    "\n",
    "    def add_blue(self,row,col):\n",
    "        self.grid[row,col]=[0,0,1]\n",
    "        self.blue=[row,col]\n",
    "\n",
    "    def is_under_attack(self)->bool:\n",
    "        try:\n",
    "            if self.red[0]==self.blue[0] or self.red[1]==self.blue[1] or abs(self.red[1]-self.blue[1]) == abs(self.red[0]-self.blue[0]) :\n",
    "                return True\n",
    "        except:\n",
    "            return False\n",
    "        else:\n",
    "            return False"
   ],
   "outputs": [],
   "metadata": {}
  },
  {
   "cell_type": "code",
   "execution_count": 145,
   "source": [
    "def test_is_under_attack():\n",
    "    num=0\n",
    "    try:\n",
    "        ch_b=ChessBoard()\n",
    "        ch_b.add_red(3,5)\n",
    "        ch_b.add_blue(5,2)\n",
    "        num+=1\n",
    "        assert ch_b.is_under_attack() == False\n",
    "        print(\"test 1 Passed\")\n",
    "        \n",
    "        ch_b.add_red(3,4)\n",
    "        ch_b.add_blue(5,2)\n",
    "        num+=1\n",
    "        assert ch_b.is_under_attack() == True\n",
    "        print(\"test 2 Passed\") \n",
    "        \n",
    "        ch_b.add_red(3,4)\n",
    "        ch_b.add_blue(3,2)\n",
    "        num+=1\n",
    "        assert ch_b.is_under_attack() == False\n",
    "        print(\"test 3 Passed\")\n",
    "        \n",
    "        ch_b.add_red(5,4)\n",
    "        ch_b.add_blue(3,4)\n",
    "        num+=1\n",
    "        assert ch_b.is_under_attack() == True\n",
    "        print(\"test 4 Passed\")\n",
    "\n",
    "        print(\"-----------------------------------Total 4 Passed--------------------------------------\")\n",
    "    except:\n",
    "        print(f\"********************************Failed test number {num} *******************************************\")    "
   ],
   "outputs": [],
   "metadata": {}
  },
  {
   "cell_type": "code",
   "execution_count": 146,
   "source": [
    "ch_b=ChessBoard()\n",
    "ch_b.add_red(3,5)\n",
    "ch_b.add_blue(5,2)\n",
    "ch_b.render()\n",
    "ch_b.is_under_attack()\n",
    "\n",
    "test_is_under_attack()"
   ],
   "outputs": [
    {
     "output_type": "stream",
     "name": "stdout",
     "text": [
      "test 1 Passed\n",
      "test 2 Passed\n",
      "******************************** test number 3 failed*******************************************\n"
     ]
    },
    {
     "output_type": "display_data",
     "data": {
      "text/plain": [
       "<Figure size 432x288 with 1 Axes>"
      ],
      "image/png": "[encoded data removed]"
     },
     "metadata": {
      "needs_background": "light"
     }
    }
   ],
   "metadata": {}
  },
  {
   "cell_type": "code",
   "execution_count": null,
   "source": [],
   "outputs": [],
   "metadata": {}
  }
 ],
 "metadata": {
  "orig_nbformat": 4,
  "language_info": {
   "name": "python",
   "version": "3.9.6",
   "mimetype": "text/x-python",
   "codemirror_mode": {
    "name": "ipython",
    "version": 3
   },
   "pygments_lexer": "ipython3",
   "nbconvert_exporter": "python",
   "file_extension": ".py"
  },
  "kernelspec": {
   "name": "python3",
   "display_name": "Python 3.9.6 64-bit ('.venv': poetry)"
  },
  "interpreter": {
   "hash": "0a3623c02d1dcfb68329819dcb3eb7b399a19c19ac56192d5981a4cfdfa77900"
  }
 },
 "nbformat": 4,
 "nbformat_minor": 2
}