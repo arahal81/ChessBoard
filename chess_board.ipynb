{
 "cells": [],
 "metadata": {
  "orig_nbformat": 4,
  "language_info": {
   "name": "python",
   "version": "3.9.6",
   "mimetype": "text/x-python",
   "codemirror_mode": {
    "name": "ipython",
    "version": 3
   },
   "pygments_lexer": "ipython3",
   "nbconvert_exporter": "python",
   "file_extension": ".py"
  },
  "kernelspec": {
   "name": "python3",
   "display_name": "Python 3.9.6 64-bit ('.venv': poetry)"
  },
  "interpreter": {
   "hash": "0a3623c02d1dcfb68329819dcb3eb7b399a19c19ac56192d5981a4cfdfa77900"
  }
 },
 "nbformat": 4,
 "nbformat_minor": 2
}